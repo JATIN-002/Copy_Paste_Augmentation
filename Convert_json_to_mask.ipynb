{
 "cells": [
  {
   "cell_type": "code",
   "execution_count": 18,
   "id": "fd49805a",
   "metadata": {},
   "outputs": [],
   "source": [
    "import json\n",
    "import numpy as np\n",
    "from PIL import Image, ImageDraw\n",
    "import os\n",
    "import cv2"
   ]
  },
  {
   "cell_type": "markdown",
   "id": "c5e508b5",
   "metadata": {},
   "source": [
    "for binary masks"
   ]
  },
  {
   "cell_type": "markdown",
   "id": "6c04cec1",
   "metadata": {},
   "source": [
    "single annotation"
   ]
  },
  {
   "cell_type": "code",
   "execution_count": 23,
   "id": "1815c83f",
   "metadata": {},
   "outputs": [],
   "source": [
    "\n",
    "\n",
    "def json_to_masks(json_path, output_folder):\n",
    "    with open(json_path, 'r') as file:\n",
    "        data = json.load(file)\n",
    "    \n",
    "    images = data['images']\n",
    "    categories = data['categories']\n",
    "    annotations = data['annotations']\n",
    "    \n",
    "    os.makedirs(output_folder, exist_ok=True)\n",
    "    \n",
    "    for image in images:\n",
    "        image_id = image['id']\n",
    "        image_name = image['file_name'].split('.')[0]\n",
    "        image_path = os.path.join('./Car-Parts-Segmentation-master/trainingset/JPEGImages', image['file_name'])\n",
    "        image_data = Image.open(image_path)\n",
    "        \n",
    "        masks = np.zeros(image_data.size, dtype=np.uint8)\n",
    "        \n",
    "        for annotation in annotations:\n",
    "            if annotation['image_id'] == image_id:\n",
    "                category_id = annotation['category_id']\n",
    "                category_name = [category['name'] for category in categories if category['id'] == category_id][0]\n",
    "                segmentation = annotation['segmentation']\n",
    "                \n",
    "                for seg in segmentation:\n",
    "                    polygon = [tuple(seg[i:i+2]) for i in range(0, len(seg), 2)]\n",
    "                    mask = Image.new('L', image_data.size, 0)\n",
    "                    ImageDraw.Draw(mask).polygon(polygon, outline=1, fill=1)\n",
    "                    mask = np.array(mask)\n",
    "                    masks += mask\n",
    "                \n",
    "                mask_image = Image.fromarray((masks * 255).astype(np.uint8))\n",
    "                output_path = os.path.join(output_folder, f\"{image_name}_{category_name}.png\")\n",
    "                mask_image.save(output_path)\n",
    "                break  # Assuming there is only one annotation per category per image\n",
    "\n",
    "# Specify the path to the JSON file and the output folder\n",
    "json_file = \"./Car-Parts-Segmentation-master/trainingset/annotations.json\"\n",
    "output_folder = \"./Car_parts_masked_segbinary/\"\n",
    "\n",
    "# Convert JSON annotations to separate mask images for each class\n",
    "json_to_masks(json_file, output_folder)"
   ]
  },
  {
   "cell_type": "markdown",
   "id": "3843ce0c",
   "metadata": {},
   "source": [
    "multiple annotation"
   ]
  },
  {
   "cell_type": "code",
   "execution_count": 25,
   "id": "d02c21e9",
   "metadata": {},
   "outputs": [],
   "source": [
    "\n",
    "def json_to_masks(json_path, output_folder):\n",
    "    with open(json_path, 'r') as file:\n",
    "        data = json.load(file)\n",
    "\n",
    "    images = data['images']\n",
    "    categories = data['categories']\n",
    "    annotations = data['annotations']\n",
    "\n",
    "    os.makedirs(output_folder, exist_ok=True)\n",
    "\n",
    "    for image in images:\n",
    "        image_id = image['id']\n",
    "        image_name = image['file_name'].split('.')[0]\n",
    "        image_path = os.path.join('./Car-Parts-Segmentation-master/trainingset/JPEGImages', image['file_name'])\n",
    "        image_data = Image.open(image_path)\n",
    "\n",
    "        for annotation in annotations:\n",
    "            if annotation['image_id'] == image_id:\n",
    "                category_id = annotation['category_id']\n",
    "                category = [category for category in categories if category['id'] == category_id][0]\n",
    "                category_name = category['name']\n",
    "                segmentation = annotation['segmentation']\n",
    "\n",
    "                masks = np.zeros(image_data.size, dtype=np.uint8)\n",
    "\n",
    "                for seg in segmentation:\n",
    "                    polygon = [tuple(seg[i:i+2]) for i in range(0, len(seg), 2)]\n",
    "                    mask = Image.new('L', image_data.size, 0)\n",
    "                    ImageDraw.Draw(mask).polygon(polygon, outline=1, fill=1)\n",
    "                    mask = np.array(mask)\n",
    "                    masks += mask\n",
    "\n",
    "                mask_image = Image.fromarray((masks * 255).astype(np.uint8))\n",
    "                output_path = os.path.join(output_folder, f\"{image_name}_{category_name}.png\")\n",
    "                mask_image.save(output_path)\n",
    "\n",
    "# Specify the path to the JSON file and the output folder\n",
    "json_file = \"./Car-Parts-Segmentation-master/trainingset/annotations.json\"\n",
    "output_folder = \"./Car_parts_masked_segbinary/\"\n",
    "\n",
    "# Convert JSON annotations to separate mask images for each class\n",
    "json_to_masks(json_file, output_folder)\n"
   ]
  },
  {
   "cell_type": "code",
   "execution_count": null,
   "id": "6667c689",
   "metadata": {},
   "outputs": [],
   "source": []
  }
 ],
 "metadata": {
  "kernelspec": {
   "display_name": "venvcpaug",
   "language": "python",
   "name": "venvcpaug"
  },
  "language_info": {
   "codemirror_mode": {
    "name": "ipython",
    "version": 3
   },
   "file_extension": ".py",
   "mimetype": "text/x-python",
   "name": "python",
   "nbconvert_exporter": "python",
   "pygments_lexer": "ipython3",
   "version": "3.11.3"
  }
 },
 "nbformat": 4,
 "nbformat_minor": 5
}
